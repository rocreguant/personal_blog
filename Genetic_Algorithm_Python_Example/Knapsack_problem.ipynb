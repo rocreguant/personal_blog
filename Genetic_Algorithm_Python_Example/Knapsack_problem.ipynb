{
 "cells": [
  {
   "cell_type": "markdown",
   "metadata": {},
   "source": [
    "# Knapsack Problem solved using genetic algorithms"
   ]
  },
  {
   "cell_type": "code",
   "execution_count": 2,
   "metadata": {},
   "outputs": [],
   "source": [
    "# Imports \n",
    "import numpy as np\n",
    "import random\n",
    "\n",
    "from datetime import datetime"
   ]
  },
  {
   "cell_type": "code",
   "execution_count": 18,
   "metadata": {},
   "outputs": [],
   "source": [
    "# Parameters\n",
    "n_objects = 20\n",
    "max_weight = 3\n",
    "\n",
    "n_population = 100\n",
    "\n",
    "mutation_rate = 0.3"
   ]
  },
  {
   "cell_type": "code",
   "execution_count": 23,
   "metadata": {},
   "outputs": [
    {
     "data": {
      "text/plain": [
       "{'Water': [0.9, 56],\n",
       " 'Food': [0.7, 22],\n",
       " 'Pants': [0.4, 72],\n",
       " 'Socks': [0.4, 94],\n",
       " 'Boots': [0.0, 73],\n",
       " 'Shirts': [0.2, 75],\n",
       " 'Coat': [0.0, 67],\n",
       " 'Blanket': [0.7, 79],\n",
       " 'Laptop': [0.9, 19],\n",
       " 'TV': [0.2, 75],\n",
       " 'Cellphone': [0.0, 8],\n",
       " 'Book': [0.0, 74],\n",
       " 'Gloves': [0.4, 32],\n",
       " 'Towel': [0.1, 40],\n",
       " 'Sunscream': [0.3, 59],\n",
       " 'Glasses': [0.3, 60],\n",
       " 'Fork': [0.0, 47],\n",
       " 'Knife': [0.1, 65],\n",
       " 'Matches': [0.3, 42],\n",
       " 'Chair': [0.9, 33]}"
      ]
     },
     "execution_count": 23,
     "metadata": {},
     "output_type": "execute_result"
    }
   ],
   "source": [
    "# Generating a list of coordenades representing each city\n",
    "weight_value = [[x,y] for x,y in zip(np.random.randint(0,10,n_objects)/10,np.random.randint(0,100,n_objects))]\n",
    "object_list = np.array(['Water', 'Food', 'Pants', 'Socks', 'Boots', 'Shirts', 'Coat', 'Blanket', 'Laptop', 'TV', 'Cellphone', 'Book', 'Gloves', 'Towel', 'Sunscream', 'Glasses', 'Fork', 'Knife', 'Matches', 'Chair'])\n",
    "objects_dict = { x:y for x,y in zip(object_list,weight_value)}\n",
    "\n",
    "def get_current_weight_value(objects_list, objects_dict):\n",
    "    weight = 0\n",
    "    value = 0\n",
    "    for o in objects_list:\n",
    "        o = objects_dict[o]\n",
    "        weight += o[0]\n",
    "        value += o[1]\n",
    "    return weight, value\n",
    "        \n",
    "\n",
    "def fit_in_knapsack(objects_list, max_weight, objects_dict):\n",
    "    r = []\n",
    "    for o in objects_list:\n",
    "        r.append(o)\n",
    "        weight, value = get_current_weight_value(r, objects_dict)\n",
    "        if weight > max_weight:\n",
    "            r.pop()\n",
    "            return r\n",
    "    return r\n",
    "    \n",
    "objects_dict"
   ]
  },
  {
   "cell_type": "markdown",
   "metadata": {},
   "source": [
    "## 1. Create the first population set\n",
    "We randomly shuffle the cities N times where N=population_size"
   ]
  },
  {
   "cell_type": "code",
   "execution_count": 24,
   "metadata": {},
   "outputs": [
    {
     "name": "stderr",
     "output_type": "stream",
     "text": [
      "<ipython-input-24-2ef81bb1ccef>:10: VisibleDeprecationWarning: Creating an ndarray from ragged nested sequences (which is a list-or-tuple of lists-or-tuples-or ndarrays with different lengths or shapes) is deprecated. If you meant to do this, you must specify 'dtype=object' when creating the ndarray\n",
      "  return np.array(population_set)\n"
     ]
    },
    {
     "data": {
      "text/plain": [
       "array([list(['Fork', 'Water', 'Matches', 'Gloves', 'TV', 'Book', 'Laptop']),\n",
       "       list(['Water', 'Pants', 'Cellphone', 'Laptop']),\n",
       "       list(['Food', 'Cellphone', 'Book', 'Gloves', 'Coat', 'Pants', 'Knife', 'Socks', 'Laptop']),\n",
       "       list(['Blanket', 'Cellphone', 'Book', 'Pants', 'Food', 'Matches', 'Socks', 'Boots', 'Knife']),\n",
       "       list(['Laptop', 'Chair', 'Fork', 'Boots', 'Blanket', 'Shirts']),\n",
       "       list(['Matches', 'Shirts', 'Book', 'Glasses', 'Socks', 'Laptop', 'TV', 'Fork', 'Blanket']),\n",
       "       list(['Blanket', 'Gloves', 'TV', 'Laptop', 'Book', 'Socks']),\n",
       "       list(['Water', 'Pants', 'Food', 'Laptop', 'Towel', 'Coat', 'Fork']),\n",
       "       list(['Shirts', 'Knife', 'Book', 'Fork', 'Pants', 'Glasses', 'Food', 'TV', 'Cellphone', 'Matches']),\n",
       "       list(['Food', 'Gloves', 'Blanket', 'TV', 'Boots', 'Fork', 'Chair', 'Coat', 'Towel']),\n",
       "       list(['Gloves', 'TV', 'Chair', 'Boots', 'Glasses', 'Fork', 'Blanket', 'Towel', 'Cellphone', 'Knife', 'Matches']),\n",
       "       list(['Shirts', 'Food', 'Blanket', 'Water', 'Boots']),\n",
       "       list(['Fork', 'Matches', 'Food', 'Glasses', 'Socks', 'Water', 'Gloves']),\n",
       "       list(['Matches', 'Water', 'Coat', 'Cellphone', 'Fork', 'Chair', 'Food']),\n",
       "       list(['Blanket', 'Sunscream', 'Food', 'Book', 'Cellphone', 'Pants', 'Fork', 'Boots', 'Towel', 'Gloves', 'TV', 'Knife']),\n",
       "       list(['Shirts', 'Sunscream', 'Book', 'Water', 'Cellphone', 'Matches', 'Gloves', 'TV', 'Glasses', 'Fork']),\n",
       "       list(['Coat', 'Gloves', 'Towel', 'Shirts', 'Boots', 'Laptop', 'TV', 'Sunscream', 'Fork', 'Socks']),\n",
       "       list(['Shirts', 'Towel', 'Boots', 'Water', 'Gloves', 'Chair', 'Matches', 'Knife', 'Book']),\n",
       "       list(['TV', 'Fork', 'Shirts', 'Laptop', 'Book', 'Cellphone', 'Water', 'Matches', 'Towel', 'Coat', 'Glasses']),\n",
       "       list(['Boots', 'Matches', 'Chair', 'Water', 'Cellphone', 'TV', 'Book', 'Pants']),\n",
       "       list(['Cellphone', 'Book', 'Boots', 'Shirts', 'Gloves', 'Matches', 'Pants', 'Chair', 'Knife', 'TV', 'Fork']),\n",
       "       list(['Knife', 'Laptop', 'Blanket', 'Matches', 'Boots', 'Coat', 'Chair', 'Book', 'Towel']),\n",
       "       list(['Cellphone', 'Matches', 'Coat', 'Towel', 'TV', 'Sunscream', 'Boots', 'Pants', 'Socks', 'Gloves', 'Chair']),\n",
       "       list(['Cellphone', 'Food', 'Shirts', 'Book', 'Water', 'Gloves', 'Matches']),\n",
       "       list(['Boots', 'Sunscream', 'Cellphone', 'Pants', 'Knife', 'Blanket', 'Laptop', 'TV']),\n",
       "       list(['Book', 'Matches', 'Water', 'Fork', 'Socks', 'TV', 'Boots', 'Pants']),\n",
       "       list(['Chair', 'Pants', 'Book', 'Knife', 'Water', 'Blanket']),\n",
       "       list(['Fork', 'Shirts', 'Book', 'Gloves', 'Food', 'Laptop', 'Blanket']),\n",
       "       list(['Towel', 'Shirts', 'Glasses', 'Water', 'Boots', 'Chair', 'Pants']),\n",
       "       list(['Gloves', 'Cellphone', 'Boots', 'Matches', 'Laptop', 'Chair', 'Book']),\n",
       "       list(['Knife', 'Matches', 'Laptop', 'Water', 'Pants']),\n",
       "       list(['Fork', 'Book', 'TV', 'Blanket', 'Coat', 'Shirts', 'Matches', 'Cellphone', 'Boots', 'Food', 'Chair']),\n",
       "       list(['Glasses', 'Gloves', 'Pants', 'TV', 'Sunscream', 'Knife', 'Fork', 'Water', 'Socks']),\n",
       "       list(['Pants', 'Glasses', 'TV', 'Matches', 'Laptop', 'Socks']),\n",
       "       list(['Gloves', 'Socks', 'Pants', 'Blanket', 'Fork', 'Matches', 'Cellphone', 'Knife', 'TV']),\n",
       "       list(['Cellphone', 'Towel', 'TV', 'Fork', 'Matches', 'Food', 'Boots', 'Knife', 'Glasses', 'Sunscream', 'Shirts']),\n",
       "       list(['Pants', 'Cellphone', 'Book', 'Boots', 'Glasses', 'Chair', 'Sunscream', 'Gloves']),\n",
       "       list(['Boots', 'Cellphone', 'Food', 'Matches', 'Knife', 'Glasses', 'Water']),\n",
       "       list(['TV', 'Towel', 'Book', 'Food', 'Pants', 'Water', 'Knife', 'Boots', 'Coat', 'Fork']),\n",
       "       list(['TV', 'Sunscream', 'Towel', 'Water', 'Shirts', 'Cellphone', 'Glasses', 'Pants']),\n",
       "       list(['TV', 'Cellphone', 'Food', 'Shirts', 'Gloves', 'Matches', 'Blanket', 'Boots']),\n",
       "       list(['Food', 'Knife', 'Towel', 'Sunscream', 'Matches', 'Blanket']),\n",
       "       list(['Glasses', 'Matches', 'Socks', 'Book', 'Laptop', 'Water', 'Boots', 'Shirts']),\n",
       "       list(['Water', 'Knife', 'Coat', 'Sunscream', 'Gloves', 'Pants', 'TV', 'Fork', 'Glasses', 'Cellphone']),\n",
       "       list(['Sunscream', 'Boots', 'Socks', 'Towel', 'Cellphone', 'Gloves', 'Knife', 'Pants', 'Matches', 'Fork', 'Book', 'Water']),\n",
       "       list(['Knife', 'Gloves', 'Blanket', 'Water', 'Shirts', 'Fork', 'Food', 'Boots', 'Coat']),\n",
       "       list(['Fork', 'Food', 'Boots', 'Knife', 'Water', 'Towel', 'Book', 'Matches', 'Sunscream', 'Cellphone', 'Gloves', 'Shirts', 'Coat']),\n",
       "       list(['Chair', 'Water', 'Matches', 'TV', 'Boots', 'Socks']),\n",
       "       list(['Towel', 'Shirts', 'Sunscream', 'Chair', 'Cellphone', 'Book', 'Glasses', 'Fork', 'Water']),\n",
       "       list(['Coat', 'Towel', 'Fork', 'Gloves', 'Knife', 'Blanket', 'Shirts', 'Food', 'Socks', 'Sunscream']),\n",
       "       list(['TV', 'Fork', 'Shirts', 'Glasses', 'Food', 'Matches', 'Cellphone', 'Sunscream', 'Gloves']),\n",
       "       list(['Glasses', 'Pants', 'Shirts', 'Socks', 'Laptop', 'Sunscream', 'Cellphone', 'Book', 'Fork']),\n",
       "       list(['Blanket', 'Sunscream', 'Cellphone', 'Shirts', 'Book', 'Fork', 'Water', 'Laptop']),\n",
       "       list(['Chair', 'Water', 'Coat', 'Towel', 'Laptop', 'Book']),\n",
       "       list(['TV', 'Matches', 'Shirts', 'Gloves', 'Laptop', 'Sunscream', 'Cellphone', 'Blanket', 'Fork']),\n",
       "       list(['Gloves', 'Glasses', 'Coat', 'Matches', 'Blanket', 'Book', 'Fork', 'Sunscream', 'Water', 'Cellphone']),\n",
       "       list(['Coat', 'Knife', 'TV', 'Water', 'Sunscream', 'Laptop']),\n",
       "       list(['Fork', 'TV', 'Gloves', 'Socks', 'Sunscream', 'Boots', 'Coat', 'Pants', 'Towel', 'Shirts', 'Laptop']),\n",
       "       list(['Towel', 'Cellphone', 'Boots', 'Glasses', 'Shirts', 'Book', 'Socks', 'Laptop', 'Sunscream', 'Fork']),\n",
       "       list(['Fork', 'Matches', 'Sunscream', 'Glasses', 'TV', 'Book', 'Knife', 'Shirts', 'Cellphone', 'Socks', 'Chair', 'Towel']),\n",
       "       list(['Glasses', 'Water', 'Shirts', 'Socks', 'Book', 'Towel', 'Sunscream', 'Blanket', 'Coat']),\n",
       "       list(['Matches', 'Fork', 'Book', 'Sunscream', 'Shirts', 'Boots', 'TV', 'Coat', 'Socks', 'Water']),\n",
       "       list(['Boots', 'Sunscream', 'Fork', 'Food', 'Laptop', 'Matches', 'Knife', 'Towel']),\n",
       "       list(['Water', 'Matches', 'Food', 'Pants', 'Shirts']),\n",
       "       list(['Matches', 'Boots', 'Knife', 'TV', 'Sunscream', 'Water', 'Glasses', 'Food']),\n",
       "       list(['Cellphone', 'Water', 'Gloves', 'Laptop', 'Food', 'Boots', 'Fork']),\n",
       "       list(['TV', 'Coat', 'Book', 'Shirts', 'Towel', 'Socks', 'Laptop', 'Food']),\n",
       "       list(['Blanket', 'Water', 'Towel', 'Coat', 'Cellphone', 'Laptop', 'Pants']),\n",
       "       list(['Blanket', 'Cellphone', 'Coat', 'Chair', 'Water', 'Socks']),\n",
       "       list(['TV', 'Knife', 'Cellphone', 'Blanket', 'Sunscream', 'Glasses', 'Fork', 'Boots', 'Socks', 'Shirts']),\n",
       "       list(['TV', 'Laptop', 'Fork', 'Food', 'Sunscream', 'Matches', 'Gloves', 'Cellphone']),\n",
       "       list(['Coat', 'Book', 'Pants', 'Cellphone', 'TV', 'Laptop', 'Food', 'Glasses', 'Socks', 'Boots']),\n",
       "       list(['Boots', 'Water', 'Towel', 'Coat', 'Socks', 'Knife', 'Book', 'Gloves', 'Laptop']),\n",
       "       list(['Sunscream', 'Coat', 'Chair', 'Fork', 'Water', 'Knife']),\n",
       "       list(['Shirts', 'Fork', 'Towel', 'Knife', 'Sunscream', 'Boots', 'Glasses', 'Coat', 'Gloves', 'Laptop', 'Pants', 'TV']),\n",
       "       list(['Pants', 'Socks', 'Shirts', 'Book', 'Matches', 'Food', 'Gloves', 'Coat', 'Cellphone', 'Towel']),\n",
       "       list(['Towel', 'Pants', 'Matches', 'TV', 'Boots', 'Book', 'Cellphone', 'Blanket', 'Gloves', 'Food']),\n",
       "       list(['Book', 'Socks', 'Knife', 'Cellphone', 'Boots', 'Chair', 'Shirts', 'Food']),\n",
       "       list(['Book', 'Water', 'Towel', 'Blanket', 'Chair', 'Coat', 'Gloves']),\n",
       "       list(['Chair', 'Book', 'Knife', 'Laptop', 'Glasses', 'Shirts', 'Pants']),\n",
       "       list(['Sunscream', 'Laptop', 'Book', 'Shirts', 'Blanket', 'Gloves', 'Towel', 'Cellphone', 'Glasses']),\n",
       "       list(['Water', 'Fork', 'Laptop', 'TV', 'Boots', 'Sunscream', 'Gloves', 'Shirts']),\n",
       "       list(['Socks', 'TV', 'Fork', 'Shirts', 'Laptop', 'Blanket', 'Coat', 'Sunscream', 'Glasses']),\n",
       "       list(['Socks', 'Matches', 'Sunscream', 'Knife', 'Coat', 'Water', 'Pants']),\n",
       "       list(['TV', 'Matches', 'Blanket', 'Food', 'Shirts', 'Pants', 'Fork', 'Coat', 'Book', 'Cellphone', 'Towel', 'Socks']),\n",
       "       list(['Gloves', 'Chair', 'Coat', 'Knife', 'Shirts', 'Water', 'Fork', 'TV', 'Sunscream', 'Cellphone']),\n",
       "       list(['Pants', 'Chair', 'Sunscream', 'Coat', 'Socks', 'Book', 'Cellphone', 'Gloves']),\n",
       "       list(['Cellphone', 'Fork', 'Water', 'Socks', 'Coat', 'Laptop', 'Food']),\n",
       "       list(['Water', 'Socks', 'Knife', 'Food', 'Cellphone', 'Blanket', 'Book', 'Coat']),\n",
       "       list(['Cellphone', 'Matches', 'Laptop', 'Glasses', 'Boots', 'Book', 'Food', 'Knife']),\n",
       "       list(['Water', 'Matches', 'Pants', 'Shirts', 'Glasses', 'Book', 'Towel', 'Coat', 'Boots', 'Socks', 'TV']),\n",
       "       list(['Pants', 'Boots', 'Matches', 'Glasses', 'Laptop', 'Sunscream', 'TV', 'Cellphone']),\n",
       "       list(['Sunscream', 'Water', 'Towel', 'Socks', 'Cellphone', 'Pants', 'Coat', 'Matches']),\n",
       "       list(['Towel', 'Fork', 'Knife', 'Food', 'Laptop', 'Gloves', 'Cellphone', 'Shirts', 'Glasses']),\n",
       "       list(['Shirts', 'Chair', 'Boots', 'Water', 'Coat', 'Blanket', 'Book']),\n",
       "       list(['Knife', 'Socks', 'Sunscream', 'Matches', 'Boots', 'TV', 'Food', 'Fork', 'Shirts', 'Cellphone', 'Towel', 'Pants', 'Glasses', 'Coat', 'Book']),\n",
       "       list(['Food', 'Fork', 'Chair', 'Sunscream', 'Laptop', 'Towel']),\n",
       "       list(['Coat', 'Water', 'Shirts', 'Laptop', 'Towel', 'Pants', 'Knife', 'Cellphone']),\n",
       "       list(['Glasses', 'Shirts', 'Matches', 'Knife', 'Sunscream', 'Blanket', 'Gloves', 'Socks', 'Towel', 'Book']),\n",
       "       list(['Sunscream', 'Water', 'Shirts', 'Coat', 'Gloves', 'Boots', 'Fork', 'Towel', 'Knife', 'Socks', 'Pants'])],\n",
       "      dtype=object)"
      ]
     },
     "execution_count": 24,
     "metadata": {},
     "output_type": "execute_result"
    }
   ],
   "source": [
    "# First step: Create the first population set\n",
    "def genesis(object_list, n_population, max_weight, objects_dict):\n",
    "\n",
    "    population_set = []\n",
    "    for i in range(n_population):\n",
    "        #Randomly generating a new solution\n",
    "        sol_i = object_list[np.random.choice(list(range(n_objects)), n_objects, replace=False)]\n",
    "        sol_i = fit_in_knapsack(sol_i, max_weight, objects_dict)\n",
    "        population_set.append(sol_i)\n",
    "    return np.array(population_set)\n",
    "\n",
    "population_set = genesis(object_list, n_population, max_weight, objects_dict)\n",
    "population_set"
   ]
  },
  {
   "cell_type": "markdown",
   "metadata": {},
   "source": [
    "## 2. Evaluate solutions fitness\n",
    "The solutions are defined so that the first element on the list is the first city to visit, then the second, etc. and the last city is linked to the first.\n",
    "The fitness function needs to compute the distance between subsequent cities."
   ]
  },
  {
   "cell_type": "code",
   "execution_count": 26,
   "metadata": {},
   "outputs": [
    {
     "data": {
      "text/plain": [
       "array([292., 191., 442., 446., 182., 312., 254., 206., 429., 314., 449.,\n",
       "       160., 304., 350., 530., 474., 281., 369., 409., 419., 495., 341.,\n",
       "       465., 372., 313., 333., 309., 276., 232., 393., 164., 478., 361.,\n",
       "       186., 378., 393., 479., 333., 365., 296., 313., 206., 311., 441.,\n",
       "       562., 310., 558., 239., 440., 332., 379., 414., 372., 253., 337.,\n",
       "       521., 191., 316., 416., 518., 350., 382., 252., 163., 307., 323.,\n",
       "       242., 257., 314., 386., 347., 445., 351., 263., 351., 435., 444.,\n",
       "       410., 329., 288., 397., 253., 267., 276., 460., 429., 472., 305.,\n",
       "       418., 393., 378., 326., 342., 326., 303., 592., 218., 257., 399.,\n",
       "       368.])"
      ]
     },
     "execution_count": 26,
     "metadata": {},
     "output_type": "execute_result"
    }
   ],
   "source": [
    "def get_all_fitnes(population_set, objects_dict):\n",
    "    fitnes_list = np.zeros(n_population)\n",
    "\n",
    "    #Looping over all solutions computing the fitness for each solution\n",
    "    for i in  range(n_population):\n",
    "        _, fitnes_list[i] = get_current_weight_value(population_set[i], objects_dict)\n",
    "\n",
    "    return fitnes_list\n",
    "\n",
    "fitnes_list = get_all_fitnes(population_set,cities_dict)\n",
    "fitnes_list"
   ]
  },
  {
   "cell_type": "markdown",
   "metadata": {},
   "source": [
    "# 3. Progenitors selection\n",
    "I will select a new set of progenitors using the Roulette Wheel Selection. Generates a list of progenitor pairs where N= len(population_set) but at each position there are two solutions to merge"
   ]
  },
  {
   "cell_type": "code",
   "execution_count": 27,
   "metadata": {},
   "outputs": [
    {
     "data": {
      "text/plain": [
       "['Gloves',\n",
       " 'Socks',\n",
       " 'Pants',\n",
       " 'Blanket',\n",
       " 'Fork',\n",
       " 'Matches',\n",
       " 'Cellphone',\n",
       " 'Knife',\n",
       " 'TV']"
      ]
     },
     "execution_count": 27,
     "metadata": {},
     "output_type": "execute_result"
    }
   ],
   "source": [
    "def progenitor_selection(population_set,fitnes_list):\n",
    "    total_fit = fitnes_list.sum()\n",
    "    prob_list = fitnes_list/total_fit\n",
    "    \n",
    "    #Notice there is the chance that a progenitor. mates with oneself\n",
    "    progenitor_list_a = np.random.choice(list(range(len(population_set))), len(population_set),p=prob_list, replace=True)\n",
    "    progenitor_list_b = np.random.choice(list(range(len(population_set))), len(population_set),p=prob_list, replace=True)\n",
    "    \n",
    "    progenitor_list_a = population_set[progenitor_list_a]\n",
    "    progenitor_list_b = population_set[progenitor_list_b]\n",
    "    \n",
    "    \n",
    "    return np.array([progenitor_list_a,progenitor_list_b])\n",
    "\n",
    "\n",
    "progenitor_list = progenitor_selection(population_set,fitnes_list)\n",
    "progenitor_list[0][2]"
   ]
  },
  {
   "cell_type": "markdown",
   "metadata": {},
   "source": [
    "# 4. Mating\n",
    "For each pair of  parents we'll generate an offspring pair. Since we cannot repeat cities what we'll do is copy a random chunk from one progenitor and fill the blanks with the other progenitor."
   ]
  },
  {
   "cell_type": "code",
   "execution_count": 42,
   "metadata": {},
   "outputs": [
    {
     "data": {
      "text/plain": [
       "['Socks',\n",
       " 'TV',\n",
       " 'Matches',\n",
       " 'Towel',\n",
       " 'Sunscream',\n",
       " 'Book',\n",
       " 'Knife',\n",
       " 'Food',\n",
       " 'Coat',\n",
       " 'Pants']"
      ]
     },
     "execution_count": 42,
     "metadata": {},
     "output_type": "execute_result"
    }
   ],
   "source": [
    "def mate_progenitors(prog_a, prog_b, max_weight, objects_dict):\n",
    "    offspring = []\n",
    "\n",
    "    for i in zip(prog_a, prog_b):\n",
    "        offspring.extend(i)\n",
    "        offspring = list(dict.fromkeys(offspring)) #Removing duplicates\n",
    "        offspring = fit_in_knapsack(offspring, max_weight, objects_dict)\n",
    "\n",
    "    return offspring\n",
    "            \n",
    "    \n",
    "    \n",
    "def mate_population(progenitor_list, max_weight, objects_dict):\n",
    "    new_population_set = []\n",
    "    for i in range(progenitor_list.shape[1]):\n",
    "        prog_a, prog_b = progenitor_list[0][i], progenitor_list[1][i]\n",
    "        offspring = mate_progenitors(prog_a, prog_b, max_weight, objects_dict)\n",
    "        new_population_set.append(offspring)\n",
    "        \n",
    "    return new_population_set\n",
    "\n",
    "new_population_set = mate_population(progenitor_list, max_weight, objects_dict)\n",
    "new_population_set[0]"
   ]
  },
  {
   "cell_type": "markdown",
   "metadata": {},
   "source": [
    "# 5. Mutation\n",
    "Now for each element of the new population we add a random chance of swapping"
   ]
  },
  {
   "cell_type": "code",
   "execution_count": 45,
   "metadata": {},
   "outputs": [
    {
     "data": {
      "text/plain": [
       "['Socks',\n",
       " 'TV',\n",
       " 'Chair',\n",
       " 'Book',\n",
       " 'Matches',\n",
       " 'Towel',\n",
       " 'Sunscream',\n",
       " 'Book',\n",
       " 'Coat',\n",
       " 'Knife',\n",
       " 'Food',\n",
       " 'Coat']"
      ]
     },
     "execution_count": 45,
     "metadata": {},
     "output_type": "execute_result"
    }
   ],
   "source": [
    "def mutate_offspring(offspring, max_weight, object_list, objects_dict):\n",
    "    for mutation_number in range(int(len(offspring)*mutation_rate)):\n",
    "    \n",
    "        a = np.random.randint(0,len(object_list))\n",
    "        b = np.random.randint(0,len(offspring))\n",
    "        \n",
    "        offspring.insert(b, object_list[a])\n",
    "        \n",
    "    offspring = fit_in_knapsack(offspring, max_weight, objects_dict)\n",
    "\n",
    "    return offspring\n",
    "    \n",
    "    \n",
    "def mutate_population(new_population_set, max_weight, object_list, objects_dict):\n",
    "    mutated_pop = []\n",
    "    for offspring in new_population_set:\n",
    "        mutated_pop.append(mutate_offspring(offspring, max_weight, object_list, objects_dict))\n",
    "    return mutated_pop\n",
    "\n",
    "mutated_pop = mutate_population(new_population_set, max_weight,object_list, objects_dict)\n",
    "mutated_pop[0]"
   ]
  },
  {
   "cell_type": "markdown",
   "metadata": {},
   "source": [
    "# 6. Stopping\n",
    "To select the stopping criteria we'll need to create a loop to stop first. Then I'll set it to loop at 1000 iterations."
   ]
  },
  {
   "cell_type": "code",
   "execution_count": 47,
   "metadata": {},
   "outputs": [
    {
     "name": "stdout",
     "output_type": "stream",
     "text": [
      "0 142.0 415.06 31/01/21 12:05\n"
     ]
    },
    {
     "name": "stderr",
     "output_type": "stream",
     "text": [
      "<ipython-input-47-b04ed29c054d>:10: VisibleDeprecationWarning: Creating an ndarray from ragged nested sequences (which is a list-or-tuple of lists-or-tuples-or ndarrays with different lengths or shapes) is deprecated. If you meant to do this, you must specify 'dtype=object' when creating the ndarray\n",
      "  best_solution[2] = np.array(mutated_pop)[fitnes_list.max() == fitnes_list]\n"
     ]
    },
    {
     "name": "stdout",
     "output_type": "stream",
     "text": [
      "100 162.0 385.01 31/01/21 12:05\n",
      "200 108.0 366.88 31/01/21 12:06\n",
      "300 107.0 376.34 31/01/21 12:06\n",
      "400 173.0 380.67 31/01/21 12:06\n",
      "500 133.0 353.73 31/01/21 12:06\n",
      "600 159.0 397.97 31/01/21 12:06\n",
      "700 138.0 358.58 31/01/21 12:06\n",
      "800 97.0 378.15 31/01/21 12:06\n",
      "900 164.0 350.29 31/01/21 12:06\n",
      "1000 150.0 394.45 31/01/21 12:06\n",
      "1100 84.0 375.76 31/01/21 12:06\n",
      "1200 96.0 365.41 31/01/21 12:06\n",
      "1300 142.0 383.28 31/01/21 12:06\n",
      "1400 122.0 357.45 31/01/21 12:06\n",
      "1500 144.0 355.38 31/01/21 12:06\n",
      "1600 74.0 354.52 31/01/21 12:06\n",
      "1700 176.0 371.07 31/01/21 12:06\n",
      "1800 96.0 379.2 31/01/21 12:06\n",
      "1900 129.0 384.92 31/01/21 12:06\n",
      "2000 130.0 368.94 31/01/21 12:06\n",
      "2100 127.0 370.75 31/01/21 12:06\n",
      "2200 160.0 355.67 31/01/21 12:06\n",
      "2300 181.0 378.77 31/01/21 12:06\n",
      "2400 153.0 388.26 31/01/21 12:06\n",
      "2500 116.0 377.21 31/01/21 12:06\n",
      "2600 142.0 358.79 31/01/21 12:06\n",
      "2700 145.0 385.91 31/01/21 12:06\n",
      "2800 153.0 356.38 31/01/21 12:06\n",
      "2900 194.0 366.09 31/01/21 12:06\n",
      "3000 161.0 376.76 31/01/21 12:06\n",
      "3100 179.0 362.46 31/01/21 12:06\n",
      "3200 157.0 375.01 31/01/21 12:06\n",
      "3300 130.0 374.1 31/01/21 12:06\n",
      "3400 124.0 381.84 31/01/21 12:06\n",
      "3500 130.0 390.92 31/01/21 12:06\n",
      "3600 171.0 383.1 31/01/21 12:06\n",
      "3700 88.0 366.19 31/01/21 12:06\n",
      "3800 145.0 375.49 31/01/21 12:06\n",
      "3900 163.0 377.97 31/01/21 12:07\n",
      "4000 109.0 377.35 31/01/21 12:07\n",
      "4100 116.0 377.28 31/01/21 12:07\n",
      "4200 153.0 356.22 31/01/21 12:07\n",
      "4300 99.0 375.16 31/01/21 12:07\n",
      "4400 163.0 369.76 31/01/21 12:07\n",
      "4500 160.0 368.74 31/01/21 12:07\n",
      "4600 142.0 375.65 31/01/21 12:07\n",
      "4700 176.0 396.03 31/01/21 12:07\n",
      "4800 128.0 350.96 31/01/21 12:07\n",
      "4900 146.0 381.52 31/01/21 12:07\n",
      "5000 179.0 396.56 31/01/21 12:07\n",
      "5100 155.0 370.93 31/01/21 12:07\n",
      "5200 129.0 356.83 31/01/21 12:07\n",
      "5300 161.0 362.52 31/01/21 12:07\n",
      "5400 138.0 364.01 31/01/21 12:07\n",
      "5500 152.0 370.34 31/01/21 12:07\n",
      "5600 153.0 381.84 31/01/21 12:07\n",
      "5700 171.0 398.04 31/01/21 12:07\n",
      "5800 137.0 378.5 31/01/21 12:07\n",
      "5900 150.0 372.87 31/01/21 12:07\n",
      "6000 167.0 372.43 31/01/21 12:07\n",
      "6100 160.0 381.46 31/01/21 12:07\n",
      "6200 130.0 378.81 31/01/21 12:07\n",
      "6300 156.0 361.41 31/01/21 12:07\n",
      "6400 110.0 381.57 31/01/21 12:07\n",
      "6500 142.0 385.04 31/01/21 12:07\n",
      "6600 97.0 379.69 31/01/21 12:07\n",
      "6700 174.0 345.74 31/01/21 12:07\n",
      "6800 137.0 355.63 31/01/21 12:07\n",
      "6900 154.0 365.8 31/01/21 12:07\n",
      "7000 128.0 358.55 31/01/21 12:07\n",
      "7100 157.0 367.89 31/01/21 12:07\n",
      "7200 154.0 371.76 31/01/21 12:07\n",
      "7300 196.0 381.45 31/01/21 12:07\n",
      "7400 129.0 349.39 31/01/21 12:08\n",
      "7500 161.0 367.49 31/01/21 12:08\n",
      "7600 129.0 365.84 31/01/21 12:08\n",
      "7700 150.0 381.02 31/01/21 12:08\n",
      "7800 115.0 381.42 31/01/21 12:08\n",
      "7900 95.0 375.3 31/01/21 12:08\n",
      "8000 76.0 376.37 31/01/21 12:08\n",
      "8100 171.0 367.83 31/01/21 12:08\n",
      "8200 157.0 370.47 31/01/21 12:08\n",
      "8300 125.0 369.15 31/01/21 12:08\n",
      "8400 149.0 363.44 31/01/21 12:08\n",
      "8500 129.0 371.45 31/01/21 12:08\n",
      "8600 140.0 373.47 31/01/21 12:08\n",
      "8700 153.0 388.48 31/01/21 12:08\n",
      "8800 149.0 358.21 31/01/21 12:08\n",
      "8900 109.0 369.02 31/01/21 12:08\n",
      "9000 158.0 376.87 31/01/21 12:08\n",
      "9100 126.0 366.87 31/01/21 12:08\n",
      "9200 76.0 361.77 31/01/21 12:08\n",
      "9300 149.0 366.14 31/01/21 12:08\n",
      "9400 118.0 365.98 31/01/21 12:08\n",
      "9500 151.0 390.66 31/01/21 12:08\n",
      "9600 163.0 360.15 31/01/21 12:08\n",
      "9700 97.0 360.69 31/01/21 12:08\n",
      "9800 171.0 370.31 31/01/21 12:08\n",
      "9900 101.0 372.0 31/01/21 12:08\n",
      "10000 155.0 348.43 31/01/21 12:08\n",
      "10100 119.0 368.07 31/01/21 12:08\n",
      "10200 115.0 377.91 31/01/21 12:08\n",
      "10300 163.0 375.06 31/01/21 12:08\n",
      "10400 120.0 375.83 31/01/21 12:08\n"
     ]
    },
    {
     "ename": "KeyboardInterrupt",
     "evalue": "",
     "output_type": "error",
     "traceback": [
      "\u001b[0;31m--------------------------------------------------------------------------\u001b[0m",
      "\u001b[0;31mKeyboardInterrupt\u001b[0m                        Traceback (most recent call last)",
      "\u001b[0;32m<ipython-input-47-b04ed29c054d>\u001b[0m in \u001b[0;36m<module>\u001b[0;34m\u001b[0m\n\u001b[1;32m     11\u001b[0m \u001b[0;34m\u001b[0m\u001b[0m\n\u001b[1;32m     12\u001b[0m     \u001b[0mprogenitor_list\u001b[0m \u001b[0;34m=\u001b[0m \u001b[0mprogenitor_selection\u001b[0m\u001b[0;34m(\u001b[0m\u001b[0mpopulation_set\u001b[0m\u001b[0;34m,\u001b[0m\u001b[0mfitnes_list\u001b[0m\u001b[0;34m)\u001b[0m\u001b[0;34m\u001b[0m\u001b[0;34m\u001b[0m\u001b[0m\n\u001b[0;32m---> 13\u001b[0;31m     \u001b[0mnew_population_set\u001b[0m \u001b[0;34m=\u001b[0m \u001b[0mmate_population\u001b[0m\u001b[0;34m(\u001b[0m\u001b[0mprogenitor_list\u001b[0m\u001b[0;34m,\u001b[0m \u001b[0mmax_weight\u001b[0m\u001b[0;34m,\u001b[0m \u001b[0mobjects_dict\u001b[0m\u001b[0;34m)\u001b[0m\u001b[0;34m\u001b[0m\u001b[0;34m\u001b[0m\u001b[0m\n\u001b[0m\u001b[1;32m     14\u001b[0m \u001b[0;34m\u001b[0m\u001b[0m\n\u001b[1;32m     15\u001b[0m     \u001b[0mmutated_pop\u001b[0m \u001b[0;34m=\u001b[0m \u001b[0mmutate_population\u001b[0m\u001b[0;34m(\u001b[0m\u001b[0mnew_population_set\u001b[0m\u001b[0;34m,\u001b[0m \u001b[0mmax_weight\u001b[0m\u001b[0;34m,\u001b[0m\u001b[0mobject_list\u001b[0m\u001b[0;34m,\u001b[0m \u001b[0mobjects_dict\u001b[0m\u001b[0;34m)\u001b[0m\u001b[0;34m\u001b[0m\u001b[0;34m\u001b[0m\u001b[0m\n",
      "\u001b[0;32m<ipython-input-42-6f799ff2f98a>\u001b[0m in \u001b[0;36mmate_population\u001b[0;34m(progenitor_list, max_weight, objects_dict)\u001b[0m\n\u001b[1;32m     15\u001b[0m     \u001b[0;32mfor\u001b[0m \u001b[0mi\u001b[0m \u001b[0;32min\u001b[0m \u001b[0mrange\u001b[0m\u001b[0;34m(\u001b[0m\u001b[0mprogenitor_list\u001b[0m\u001b[0;34m.\u001b[0m\u001b[0mshape\u001b[0m\u001b[0;34m[\u001b[0m\u001b[0;36m1\u001b[0m\u001b[0;34m]\u001b[0m\u001b[0;34m)\u001b[0m\u001b[0;34m:\u001b[0m\u001b[0;34m\u001b[0m\u001b[0;34m\u001b[0m\u001b[0m\n\u001b[1;32m     16\u001b[0m         \u001b[0mprog_a\u001b[0m\u001b[0;34m,\u001b[0m \u001b[0mprog_b\u001b[0m \u001b[0;34m=\u001b[0m \u001b[0mprogenitor_list\u001b[0m\u001b[0;34m[\u001b[0m\u001b[0;36m0\u001b[0m\u001b[0;34m]\u001b[0m\u001b[0;34m[\u001b[0m\u001b[0mi\u001b[0m\u001b[0;34m]\u001b[0m\u001b[0;34m,\u001b[0m \u001b[0mprogenitor_list\u001b[0m\u001b[0;34m[\u001b[0m\u001b[0;36m1\u001b[0m\u001b[0;34m]\u001b[0m\u001b[0;34m[\u001b[0m\u001b[0mi\u001b[0m\u001b[0;34m]\u001b[0m\u001b[0;34m\u001b[0m\u001b[0;34m\u001b[0m\u001b[0m\n\u001b[0;32m---> 17\u001b[0;31m         \u001b[0moffspring\u001b[0m \u001b[0;34m=\u001b[0m \u001b[0mmate_progenitors\u001b[0m\u001b[0;34m(\u001b[0m\u001b[0mprog_a\u001b[0m\u001b[0;34m,\u001b[0m \u001b[0mprog_b\u001b[0m\u001b[0;34m,\u001b[0m \u001b[0mmax_weight\u001b[0m\u001b[0;34m,\u001b[0m \u001b[0mobjects_dict\u001b[0m\u001b[0;34m)\u001b[0m\u001b[0;34m\u001b[0m\u001b[0;34m\u001b[0m\u001b[0m\n\u001b[0m\u001b[1;32m     18\u001b[0m         \u001b[0mnew_population_set\u001b[0m\u001b[0;34m.\u001b[0m\u001b[0mappend\u001b[0m\u001b[0;34m(\u001b[0m\u001b[0moffspring\u001b[0m\u001b[0;34m)\u001b[0m\u001b[0;34m\u001b[0m\u001b[0;34m\u001b[0m\u001b[0m\n\u001b[1;32m     19\u001b[0m \u001b[0;34m\u001b[0m\u001b[0m\n",
      "\u001b[0;32m<ipython-input-42-6f799ff2f98a>\u001b[0m in \u001b[0;36mmate_progenitors\u001b[0;34m(prog_a, prog_b, max_weight, objects_dict)\u001b[0m\n\u001b[1;32m      5\u001b[0m         \u001b[0moffspring\u001b[0m\u001b[0;34m.\u001b[0m\u001b[0mextend\u001b[0m\u001b[0;34m(\u001b[0m\u001b[0mi\u001b[0m\u001b[0;34m)\u001b[0m\u001b[0;34m\u001b[0m\u001b[0;34m\u001b[0m\u001b[0m\n\u001b[1;32m      6\u001b[0m         \u001b[0moffspring\u001b[0m \u001b[0;34m=\u001b[0m \u001b[0mlist\u001b[0m\u001b[0;34m(\u001b[0m\u001b[0mdict\u001b[0m\u001b[0;34m.\u001b[0m\u001b[0mfromkeys\u001b[0m\u001b[0;34m(\u001b[0m\u001b[0moffspring\u001b[0m\u001b[0;34m)\u001b[0m\u001b[0;34m)\u001b[0m \u001b[0;31m#Removing duplicates\u001b[0m\u001b[0;34m\u001b[0m\u001b[0;34m\u001b[0m\u001b[0m\n\u001b[0;32m----> 7\u001b[0;31m         \u001b[0moffspring\u001b[0m \u001b[0;34m=\u001b[0m \u001b[0mfit_in_knapsack\u001b[0m\u001b[0;34m(\u001b[0m\u001b[0moffspring\u001b[0m\u001b[0;34m,\u001b[0m \u001b[0mmax_weight\u001b[0m\u001b[0;34m,\u001b[0m \u001b[0mobjects_dict\u001b[0m\u001b[0;34m)\u001b[0m\u001b[0;34m\u001b[0m\u001b[0;34m\u001b[0m\u001b[0m\n\u001b[0m\u001b[1;32m      8\u001b[0m \u001b[0;34m\u001b[0m\u001b[0m\n\u001b[1;32m      9\u001b[0m     \u001b[0;32mreturn\u001b[0m \u001b[0moffspring\u001b[0m\u001b[0;34m\u001b[0m\u001b[0;34m\u001b[0m\u001b[0m\n",
      "\u001b[0;32m<ipython-input-23-a9e799043e41>\u001b[0m in \u001b[0;36mfit_in_knapsack\u001b[0;34m(objects_list, max_weight, objects_dict)\u001b[0m\n\u001b[1;32m     18\u001b[0m     \u001b[0;32mfor\u001b[0m \u001b[0mo\u001b[0m \u001b[0;32min\u001b[0m \u001b[0mobjects_list\u001b[0m\u001b[0;34m:\u001b[0m\u001b[0;34m\u001b[0m\u001b[0;34m\u001b[0m\u001b[0m\n\u001b[1;32m     19\u001b[0m         \u001b[0mr\u001b[0m\u001b[0;34m.\u001b[0m\u001b[0mappend\u001b[0m\u001b[0;34m(\u001b[0m\u001b[0mo\u001b[0m\u001b[0;34m)\u001b[0m\u001b[0;34m\u001b[0m\u001b[0;34m\u001b[0m\u001b[0m\n\u001b[0;32m---> 20\u001b[0;31m         \u001b[0mweight\u001b[0m\u001b[0;34m,\u001b[0m \u001b[0mvalue\u001b[0m \u001b[0;34m=\u001b[0m \u001b[0mget_current_weight_value\u001b[0m\u001b[0;34m(\u001b[0m\u001b[0mr\u001b[0m\u001b[0;34m,\u001b[0m \u001b[0mobjects_dict\u001b[0m\u001b[0;34m)\u001b[0m\u001b[0;34m\u001b[0m\u001b[0;34m\u001b[0m\u001b[0m\n\u001b[0m\u001b[1;32m     21\u001b[0m         \u001b[0;32mif\u001b[0m \u001b[0mweight\u001b[0m \u001b[0;34m>\u001b[0m \u001b[0mmax_weight\u001b[0m\u001b[0;34m:\u001b[0m\u001b[0;34m\u001b[0m\u001b[0;34m\u001b[0m\u001b[0m\n\u001b[1;32m     22\u001b[0m             \u001b[0mr\u001b[0m\u001b[0;34m.\u001b[0m\u001b[0mpop\u001b[0m\u001b[0;34m(\u001b[0m\u001b[0;34m)\u001b[0m\u001b[0;34m\u001b[0m\u001b[0;34m\u001b[0m\u001b[0m\n",
      "\u001b[0;32m<ipython-input-23-a9e799043e41>\u001b[0m in \u001b[0;36mget_current_weight_value\u001b[0;34m(objects_list, objects_dict)\u001b[0m\n\u001b[1;32m     10\u001b[0m         \u001b[0mo\u001b[0m \u001b[0;34m=\u001b[0m \u001b[0mobjects_dict\u001b[0m\u001b[0;34m[\u001b[0m\u001b[0mo\u001b[0m\u001b[0;34m]\u001b[0m\u001b[0;34m\u001b[0m\u001b[0;34m\u001b[0m\u001b[0m\n\u001b[1;32m     11\u001b[0m         \u001b[0mweight\u001b[0m \u001b[0;34m+=\u001b[0m \u001b[0mo\u001b[0m\u001b[0;34m[\u001b[0m\u001b[0;36m0\u001b[0m\u001b[0;34m]\u001b[0m\u001b[0;34m\u001b[0m\u001b[0;34m\u001b[0m\u001b[0m\n\u001b[0;32m---> 12\u001b[0;31m         \u001b[0mvalue\u001b[0m \u001b[0;34m+=\u001b[0m \u001b[0mo\u001b[0m\u001b[0;34m[\u001b[0m\u001b[0;36m1\u001b[0m\u001b[0;34m]\u001b[0m\u001b[0;34m\u001b[0m\u001b[0;34m\u001b[0m\u001b[0m\n\u001b[0m\u001b[1;32m     13\u001b[0m     \u001b[0;32mreturn\u001b[0m \u001b[0mweight\u001b[0m\u001b[0;34m,\u001b[0m \u001b[0mvalue\u001b[0m\u001b[0;34m\u001b[0m\u001b[0;34m\u001b[0m\u001b[0m\n\u001b[1;32m     14\u001b[0m \u001b[0;34m\u001b[0m\u001b[0m\n",
      "\u001b[0;31mKeyboardInterrupt\u001b[0m: "
     ]
    }
   ],
   "source": [
    "best_solution = [-1,-np.inf,np.array([])]\n",
    "for i in range(10000):\n",
    "    if i%100==0: print(i, fitnes_list.min(), fitnes_list.mean(), datetime.now().strftime(\"%d/%m/%y %H:%M\"))\n",
    "    fitnes_list = get_all_fitnes(mutated_pop,cities_dict)\n",
    "    \n",
    "    #Saving the best solution\n",
    "    if fitnes_list.max() > best_solution[0]:\n",
    "        best_solution[0] = i\n",
    "        best_solution[1] = fitnes_list.max()\n",
    "        best_solution[2] = np.array(mutated_pop)[fitnes_list.max() == fitnes_list]\n",
    "    \n",
    "    progenitor_list = progenitor_selection(population_set,fitnes_list)\n",
    "    new_population_set = mate_population(progenitor_list, max_weight, objects_dict)\n",
    "    \n",
    "    mutated_pop = mutate_population(new_population_set, max_weight,object_list, objects_dict)"
   ]
  },
  {
   "cell_type": "code",
   "execution_count": 53,
   "metadata": {},
   "outputs": [
    {
     "data": {
      "text/plain": [
       "(2.9, 868)"
      ]
     },
     "execution_count": 53,
     "metadata": {},
     "output_type": "execute_result"
    }
   ],
   "source": [
    "get_current_weight_value(best_solution[2][0], objects_dict)"
   ]
  }
 ],
 "metadata": {
  "kernelspec": {
   "display_name": "Python 3",
   "language": "python",
   "name": "python3"
  },
  "language_info": {
   "codemirror_mode": {
    "name": "ipython",
    "version": 3
   },
   "file_extension": ".py",
   "mimetype": "text/x-python",
   "name": "python",
   "nbconvert_exporter": "python",
   "pygments_lexer": "ipython3",
   "version": "3.8.5"
  }
 },
 "nbformat": 4,
 "nbformat_minor": 4
}
