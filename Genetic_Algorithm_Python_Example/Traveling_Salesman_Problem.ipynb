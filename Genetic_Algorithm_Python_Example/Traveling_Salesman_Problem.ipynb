{
 "cells": [
  {
   "cell_type": "markdown",
   "metadata": {},
   "source": [
    "# Travelling Salesperson Problem solved using genetic algorithms"
   ]
  },
  {
   "cell_type": "code",
   "execution_count": 1,
   "metadata": {},
   "outputs": [],
   "source": [
    "# Imports \n",
    "import numpy as np\n",
    "import random\n",
    "\n",
    "from datetime import datetime"
   ]
  },
  {
   "cell_type": "code",
   "execution_count": 2,
   "metadata": {},
   "outputs": [],
   "source": [
    "# Parameters\n",
    "n_cities = 20\n",
    "\n",
    "n_population = 100\n",
    "\n",
    "mutation_rate = 0.3"
   ]
  },
  {
   "cell_type": "code",
   "execution_count": 3,
   "metadata": {},
   "outputs": [
    {
     "data": {
      "text/plain": [
       "{'Berlin': [29, 72],\n",
       " 'London': [54, 65],\n",
       " 'Moscow': [72, 21],\n",
       " 'Barcelona': [38, 50],\n",
       " 'Rome': [20, 60],\n",
       " 'Paris': [48, 31],\n",
       " 'Vienna': [54, 57],\n",
       " 'Munich': [39, 5],\n",
       " 'Istanbul': [50, 46],\n",
       " 'Kyiv': [95, 58],\n",
       " 'Bucharest': [80, 74],\n",
       " 'Minsk': [56, 34],\n",
       " 'Warsaw': [94, 39],\n",
       " 'Budapest': [75, 22],\n",
       " 'Milan': [58, 39],\n",
       " 'Prague': [35, 49],\n",
       " 'Sofia': [69, 28],\n",
       " 'Birmingham': [6, 91],\n",
       " 'Brussels': [52, 63],\n",
       " 'Amsterdam': [67, 94]}"
      ]
     },
     "execution_count": 3,
     "metadata": {},
     "output_type": "execute_result"
    }
   ],
   "source": [
    "# Generating a list of coordenades representing each city\n",
    "coordinates_list = [[x,y] for x,y in zip(np.random.randint(0,100,n_cities),np.random.randint(0,100,n_cities))]\n",
    "names_list = np.array(['Berlin', 'London', 'Moscow', 'Barcelona', 'Rome', 'Paris', 'Vienna', 'Munich', 'Istanbul', 'Kyiv', 'Bucharest', 'Minsk', 'Warsaw', 'Budapest', 'Milan', 'Prague', 'Sofia', 'Birmingham', 'Brussels', 'Amsterdam'])\n",
    "cities_dict = { x:y for x,y in zip(names_list,coordinates_list)}\n",
    "\n",
    "# Function to compute the distance between two points\n",
    "def compute_city_distance_coordinates(a,b):\n",
    "    return ((a[0]-b[0])**2+(a[1]-b[1])**2)**0.5\n",
    "\n",
    "def compute_city_distance_names(city_a, city_b, cities_dict):\n",
    "    return compute_city_distance_coordinates(cities_dict[city_a], cities_dict[city_b])\n",
    "\n",
    "cities_dict"
   ]
  },
  {
   "cell_type": "markdown",
   "metadata": {},
   "source": [
    "## 1. Create the first population set\n",
    "We randomly shuffle the cities N times where N=population_size"
   ]
  },
  {
   "cell_type": "code",
   "execution_count": 4,
   "metadata": {},
   "outputs": [
    {
     "data": {
      "text/plain": [
       "array([['Vienna', 'Warsaw', 'Sofia', ..., 'Bucharest', 'Paris',\n",
       "        'Brussels'],\n",
       "       ['Rome', 'Minsk', 'Bucharest', ..., 'London', 'Milan', 'Vienna'],\n",
       "       ['London', 'Milan', 'Vienna', ..., 'Rome', 'Sofia', 'Berlin'],\n",
       "       ...,\n",
       "       ['Munich', 'Amsterdam', 'Budapest', ..., 'Vienna', 'Barcelona',\n",
       "        'Sofia'],\n",
       "       ['Barcelona', 'Paris', 'Minsk', ..., 'Rome', 'Birmingham',\n",
       "        'Istanbul'],\n",
       "       ['Bucharest', 'Kyiv', 'Barcelona', ..., 'Amsterdam', 'Sofia',\n",
       "        'Munich']], dtype='<U10')"
      ]
     },
     "execution_count": 4,
     "metadata": {},
     "output_type": "execute_result"
    }
   ],
   "source": [
    "# First step: Create the first population set\n",
    "def genesis(city_list, n_population):\n",
    "\n",
    "    population_set = []\n",
    "    for i in range(n_population):\n",
    "        #Randomly generating a new solution\n",
    "        sol_i = city_list[np.random.choice(list(range(n_cities)), n_cities, replace=False)]\n",
    "        population_set.append(sol_i)\n",
    "    return np.array(population_set)\n",
    "\n",
    "population_set = genesis(names_list, n_population)\n",
    "population_set"
   ]
  },
  {
   "cell_type": "markdown",
   "metadata": {},
   "source": [
    "## 2. Evaluate solutions fitness\n",
    "The solutions are defined so that the first element on the list is the first city to visit, then the second, etc. and the last city is linked to the first.\n",
    "The fitness function needs to compute the distance between subsequent cities."
   ]
  },
  {
   "cell_type": "code",
   "execution_count": 5,
   "metadata": {},
   "outputs": [],
   "source": [
    "def fitness_eval(city_list, cities_dict):\n",
    "    total = 0\n",
    "    for i in range(n_cities-1):\n",
    "        a = city_list[i]\n",
    "        b = city_list[i+1]\n",
    "        total += compute_city_distance_names(a,b, cities_dict)\n",
    "    return total"
   ]
  },
  {
   "cell_type": "code",
   "execution_count": 6,
   "metadata": {},
   "outputs": [
    {
     "data": {
      "text/plain": [
       "array([871.54746094, 783.466072  , 818.80547691, 814.20084771,\n",
       "       843.08481584, 826.30429897, 755.33598176, 753.41998128,\n",
       "       699.19500777, 781.11362743, 810.24700885, 657.65663928,\n",
       "       822.91027133, 813.95802082, 760.33966268, 838.60007828,\n",
       "       749.15471071, 776.12562267, 850.16054821, 758.41601341,\n",
       "       787.94972642, 823.38360732, 841.23670576, 763.3748384 ,\n",
       "       843.48112396, 751.02276219, 840.6953748 , 754.10349637,\n",
       "       679.82803282, 872.66301195, 837.00451015, 790.53706032,\n",
       "       827.07775239, 665.3926298 , 852.51135667, 755.559591  ,\n",
       "       808.17886608, 813.13532984, 788.55354178, 825.37873394,\n",
       "       820.26228573, 762.74323329, 682.83946865, 705.40199871,\n",
       "       763.68171239, 679.05066857, 782.27108768, 665.97640553,\n",
       "       835.82274867, 799.91894701, 866.19917173, 770.93231326,\n",
       "       760.9064194 , 590.74752431, 745.66313186, 726.73446452,\n",
       "       895.6383672 , 796.90892094, 862.27339967, 845.78297077,\n",
       "       754.70262037, 687.52247596, 732.36380761, 707.12480654,\n",
       "       781.60759639, 837.38345347, 839.24080873, 768.1718576 ,\n",
       "       698.12766147, 781.60811147, 799.8681642 , 781.77532905,\n",
       "       867.65052016, 811.10349601, 745.67718612, 857.07983713,\n",
       "       743.30932451, 797.00502971, 722.60806282, 724.88873536,\n",
       "       730.1143839 , 806.7099026 , 814.08586833, 869.98881813,\n",
       "       754.60576209, 861.83141008, 682.7984509 , 886.59647711,\n",
       "       836.07453214, 728.42062998, 834.29792245, 814.26047999,\n",
       "       874.57992707, 782.82591058, 809.87520766, 806.14079238,\n",
       "       830.76848065, 796.35206788, 696.50365061, 677.84297438])"
      ]
     },
     "execution_count": 6,
     "metadata": {},
     "output_type": "execute_result"
    }
   ],
   "source": [
    "def get_all_fitnes(population_set, cities_dict):\n",
    "    fitnes_list = np.zeros(n_population)\n",
    "\n",
    "    #Looping over all solutions computing the fitness for each solution\n",
    "    for i in  range(n_population):\n",
    "        fitnes_list[i] = fitness_eval(population_set[i], cities_dict)\n",
    "\n",
    "    return fitnes_list\n",
    "\n",
    "fitnes_list = get_all_fitnes(population_set,cities_dict)\n",
    "fitnes_list"
   ]
  },
  {
   "cell_type": "markdown",
   "metadata": {},
   "source": [
    "# 3. Progenitors selection\n",
    "I will select a new set of progenitors using the Roulette Wheel Selection. Generates a list of progenitor pairs where N= len(population_set) but at each position there are two solutions to merge"
   ]
  },
  {
   "cell_type": "code",
   "execution_count": 7,
   "metadata": {},
   "outputs": [
    {
     "data": {
      "text/plain": [
       "array(['Vienna', 'Minsk', 'Kyiv', 'Amsterdam', 'Barcelona', 'Rome',\n",
       "       'Bucharest', 'Budapest', 'Milan', 'Prague', 'Istanbul', 'Moscow',\n",
       "       'Munich', 'Berlin', 'Paris', 'Brussels', 'Warsaw', 'Birmingham',\n",
       "       'London', 'Sofia'], dtype='<U10')"
      ]
     },
     "execution_count": 7,
     "metadata": {},
     "output_type": "execute_result"
    }
   ],
   "source": [
    "def progenitor_selection(population_set,fitnes_list):\n",
    "    total_fit = fitnes_list.sum()\n",
    "    prob_list = fitnes_list/total_fit\n",
    "    \n",
    "    #Notice there is the chance that a progenitor. mates with oneself\n",
    "    progenitor_list_a = np.random.choice(list(range(len(population_set))), len(population_set),p=prob_list, replace=True)\n",
    "    progenitor_list_b = np.random.choice(list(range(len(population_set))), len(population_set),p=prob_list, replace=True)\n",
    "    \n",
    "    progenitor_list_a = population_set[progenitor_list_a]\n",
    "    progenitor_list_b = population_set[progenitor_list_b]\n",
    "    \n",
    "    \n",
    "    return np.array([progenitor_list_a,progenitor_list_b])\n",
    "\n",
    "\n",
    "progenitor_list = progenitor_selection(population_set,fitnes_list)\n",
    "progenitor_list[0][2]"
   ]
  },
  {
   "cell_type": "markdown",
   "metadata": {},
   "source": [
    "# 4. Mating\n",
    "For each pair of  parents we'll generate an offspring pair. Since we cannot repeat cities what we'll do is copy a random chunk from one progenitor and fill the blanks with the other progenitor."
   ]
  },
  {
   "cell_type": "code",
   "execution_count": 8,
   "metadata": {},
   "outputs": [
    {
     "data": {
      "text/plain": [
       "array(['Warsaw', 'London', 'Brussels', 'Moscow', 'Munich', 'Kyiv', 'Rome',\n",
       "       'Budapest', 'Vienna', 'Milan', 'Birmingham', 'Berlin', 'Minsk',\n",
       "       'Barcelona', 'Istanbul', 'Bucharest', 'Paris', 'Amsterdam',\n",
       "       'Prague', 'Sofia'], dtype='<U10')"
      ]
     },
     "execution_count": 8,
     "metadata": {},
     "output_type": "execute_result"
    }
   ],
   "source": [
    "def mate_progenitors(prog_a, prog_b):\n",
    "    offspring = prog_a[0:5]\n",
    "\n",
    "    for city in prog_b:\n",
    "\n",
    "        if not city in offspring:\n",
    "            offspring = np.concatenate((offspring,[city]))\n",
    "\n",
    "    return offspring\n",
    "            \n",
    "    \n",
    "    \n",
    "def mate_population(progenitor_list):\n",
    "    new_population_set = []\n",
    "    for i in range(progenitor_list.shape[1]):\n",
    "        prog_a, prog_b = progenitor_list[0][i], progenitor_list[1][i]\n",
    "        offspring = mate_progenitors(prog_a, prog_b)\n",
    "        new_population_set.append(offspring)\n",
    "        \n",
    "    return new_population_set\n",
    "\n",
    "new_population_set = mate_population(progenitor_list)\n",
    "new_population_set[0]"
   ]
  },
  {
   "cell_type": "markdown",
   "metadata": {},
   "source": [
    "# 5. Mutation\n",
    "Now for each element of the new population we add a random chance of swapping"
   ]
  },
  {
   "cell_type": "code",
   "execution_count": 9,
   "metadata": {},
   "outputs": [
    {
     "data": {
      "text/plain": [
       "array(['Amsterdam', 'London', 'Brussels', 'Moscow', 'Warsaw', 'Kyiv',\n",
       "       'Vienna', 'Budapest', 'Rome', 'Birmingham', 'Milan', 'Berlin',\n",
       "       'Minsk', 'Barcelona', 'Istanbul', 'Munich', 'Paris', 'Bucharest',\n",
       "       'Prague', 'Sofia'], dtype='<U10')"
      ]
     },
     "execution_count": 9,
     "metadata": {},
     "output_type": "execute_result"
    }
   ],
   "source": [
    "def mutate_offspring(offspring):\n",
    "    for q in range(int(n_cities*mutation_rate)):\n",
    "        a = np.random.randint(0,n_cities)\n",
    "        b = np.random.randint(0,n_cities)\n",
    "\n",
    "        offspring[a], offspring[b] = offspring[b], offspring[a]\n",
    "\n",
    "    return offspring\n",
    "    \n",
    "    \n",
    "def mutate_population(new_population_set):\n",
    "    mutated_pop = []\n",
    "    for offspring in new_population_set:\n",
    "        mutated_pop.append(mutate_offspring(offspring))\n",
    "    return mutated_pop\n",
    "\n",
    "mutated_pop = mutate_population(new_population_set)\n",
    "mutated_pop[0]"
   ]
  },
  {
   "cell_type": "markdown",
   "metadata": {},
   "source": [
    "# 6. Stopping\n",
    "To select the stopping criteria we'll need to create a loop to stop first. Then I'll set it to loop at 1000 iterations."
   ]
  },
  {
   "cell_type": "code",
   "execution_count": 10,
   "metadata": {},
   "outputs": [
    {
     "name": "stdout",
     "output_type": "stream",
     "text": [
      "0 590.7475243141516 783.9835797228405 31/01/21 17:48\n",
      "100 645.0117218700279 788.9669110984397 31/01/21 17:48\n",
      "200 624.2691069811408 784.636830396509 31/01/21 17:49\n",
      "300 633.3129586073175 790.2006133890638 31/01/21 17:49\n",
      "400 631.826460654929 796.9230192865534 31/01/21 17:49\n",
      "500 645.9317975670073 787.2470883084593 31/01/21 17:49\n",
      "600 657.2639223822969 785.1796360163803 31/01/21 17:49\n",
      "700 624.3188964054668 760.6078170374126 31/01/21 17:49\n",
      "800 670.4313328313078 786.5939834033436 31/01/21 17:49\n",
      "900 628.2745550840066 787.720537796438 31/01/21 17:49\n",
      "1000 648.3650564761382 796.6298811945546 31/01/21 17:49\n",
      "1100 651.3471122404861 783.0413285273546 31/01/21 17:49\n",
      "1200 587.0383496035005 798.0197123766501 31/01/21 17:49\n",
      "1300 630.6548925000944 785.009995832812 31/01/21 17:49\n",
      "1400 613.6284807662042 789.2173953870707 31/01/21 17:49\n",
      "1500 670.2291246747689 789.8251134350099 31/01/21 17:49\n",
      "1600 674.2928424413311 779.602603788733 31/01/21 17:49\n",
      "1700 655.1298947849947 787.466527897643 31/01/21 17:49\n",
      "1800 654.2868332622345 797.0491531503243 31/01/21 17:49\n",
      "1900 676.0318016555937 795.7503169450683 31/01/21 17:49\n",
      "2000 614.1037161386357 788.2709743238082 31/01/21 17:49\n",
      "2100 611.0854715447898 794.2040410508437 31/01/21 17:49\n",
      "2200 597.3851824605828 786.3844808954908 31/01/21 17:50\n",
      "2300 613.0205960538061 786.5872692464295 31/01/21 17:50\n",
      "2400 578.1836796117084 802.401188776731 31/01/21 17:50\n",
      "2500 614.0318223873707 795.6974172213357 31/01/21 17:50\n",
      "2600 655.3801561059539 792.6725122153529 31/01/21 17:50\n",
      "2700 656.016401118977 788.8218431966832 31/01/21 17:50\n",
      "2800 640.1718844943234 780.028000171714 31/01/21 17:50\n",
      "2900 627.7420900972044 795.77887801694 31/01/21 17:50\n",
      "3000 631.8052822481351 792.3046536214755 31/01/21 17:50\n",
      "3100 650.8672018351351 798.8396929197 31/01/21 17:50\n",
      "3200 603.7180940755783 787.8197825352798 31/01/21 17:50\n",
      "3300 594.6940026522509 787.9810082539053 31/01/21 17:50\n",
      "3400 634.3497732336289 782.7838632914645 31/01/21 17:50\n",
      "3500 626.774632795243 787.4910695801616 31/01/21 17:50\n",
      "3600 608.0240182580468 788.2291810818044 31/01/21 17:50\n",
      "3700 612.8210631860711 795.8944137574565 31/01/21 17:50\n",
      "3800 660.1034677605469 792.3848349599161 31/01/21 17:50\n",
      "3900 657.1792289039636 793.9521194393581 31/01/21 17:50\n",
      "4000 576.1109648356983 792.9895422764507 31/01/21 17:50\n",
      "4100 627.8986204187937 778.486214661722 31/01/21 17:51\n",
      "4200 606.799552060008 793.0395798071673 31/01/21 17:51\n",
      "4300 618.3749346008474 789.0029624683614 31/01/21 17:51\n",
      "4400 616.4442906852271 796.0360428886198 31/01/21 17:51\n",
      "4500 600.7377904234693 792.4154332319777 31/01/21 17:51\n",
      "4600 603.4683142188887 779.5696046952627 31/01/21 17:51\n",
      "4700 576.8672260072715 783.0480790695239 31/01/21 17:51\n",
      "4800 641.3404625874501 790.8619454693296 31/01/21 17:51\n",
      "4900 592.7376541801503 787.3423545096068 31/01/21 17:51\n",
      "5000 583.3978003511843 787.0773209534418 31/01/21 17:51\n",
      "5100 650.6081092040143 793.8458940449955 31/01/21 17:51\n",
      "5200 595.5307613190237 803.2103979108574 31/01/21 17:51\n",
      "5300 596.7402595228959 795.2430718085482 31/01/21 17:51\n",
      "5400 588.9831592903824 781.090603455621 31/01/21 17:51\n",
      "5500 626.114709943147 789.6051986847312 31/01/21 17:51\n",
      "5600 599.2610932756205 803.8423783825416 31/01/21 17:51\n",
      "5700 589.8147573108123 784.3469768071196 31/01/21 17:51\n",
      "5800 557.441513731982 777.9618381370863 31/01/21 17:51\n",
      "5900 652.023582613562 789.6138031828664 31/01/21 17:52\n",
      "6000 588.3997967083617 779.55925907516 31/01/21 17:52\n",
      "6100 646.9149025140028 782.3917211181973 31/01/21 17:52\n",
      "6200 608.3578854623489 786.7732383083337 31/01/21 17:52\n",
      "6300 625.0898891174406 789.9692433109676 31/01/21 17:52\n",
      "6400 622.2396866836943 793.7168000930048 31/01/21 17:52\n",
      "6500 639.0352966303146 795.6199572934081 31/01/21 17:52\n",
      "6600 645.7619073653852 796.6643153970463 31/01/21 17:52\n",
      "6700 616.5983951960766 780.1808260460685 31/01/21 17:52\n",
      "6800 614.7680734150547 790.1415411421651 31/01/21 17:52\n",
      "6900 639.9201341766185 775.2216308523537 31/01/21 17:52\n",
      "7000 620.922079182719 790.8973359363574 31/01/21 17:52\n",
      "7100 657.979388638713 798.0895888881756 31/01/21 17:52\n",
      "7200 601.6281885706267 790.1373805130486 31/01/21 17:52\n",
      "7300 662.5983450376712 790.4700669370577 31/01/21 17:52\n",
      "7400 582.2119934847502 787.4399473257058 31/01/21 17:52\n",
      "7500 621.2365025042736 787.1833388915599 31/01/21 17:52\n",
      "7600 595.192119301638 786.5856339127687 31/01/21 17:52\n",
      "7700 620.9877937425747 790.8983867867138 31/01/21 17:52\n",
      "7800 632.8941405826213 783.340660114302 31/01/21 17:53\n",
      "7900 640.8432973454978 785.9136584229274 31/01/21 17:53\n",
      "8000 639.9085517997257 785.886410340927 31/01/21 17:53\n",
      "8100 639.7162237985866 793.5982845011828 31/01/21 17:53\n",
      "8200 606.0383598612237 782.8228300433075 31/01/21 17:53\n",
      "8300 565.9711212660103 789.0828772008838 31/01/21 17:53\n",
      "8400 635.5992052535913 795.0629037365827 31/01/21 17:53\n",
      "8500 653.9599991252537 794.1831964147868 31/01/21 17:53\n",
      "8600 657.5245086038802 786.7542495299313 31/01/21 17:53\n",
      "8700 645.7096963409276 784.4518157517116 31/01/21 17:53\n",
      "8800 663.5456658028754 797.7395796794033 31/01/21 17:53\n",
      "8900 619.7260826884985 794.6349160471685 31/01/21 17:53\n",
      "9000 550.3496665984728 796.7736325117683 31/01/21 17:53\n",
      "9100 610.9183057999775 787.5038925769455 31/01/21 17:53\n",
      "9200 593.8742632726111 789.7303761825979 31/01/21 17:53\n",
      "9300 647.2359786830831 792.270326437233 31/01/21 17:53\n",
      "9400 639.1931602346942 795.4343715029295 31/01/21 17:53\n",
      "9500 607.6336852230127 794.469122189068 31/01/21 17:53\n",
      "9600 611.7118263203979 787.4339482036361 31/01/21 17:53\n",
      "9700 625.5565497351181 792.4203493450729 31/01/21 17:53\n",
      "9800 633.8945175339505 789.5920979010764 31/01/21 17:54\n",
      "9900 613.9317423681102 788.602827480932 31/01/21 17:54\n"
     ]
    }
   ],
   "source": [
    "best_solution = [-1,np.inf,np.array([])]\n",
    "for i in range(10000):\n",
    "    if i%100==0: print(i, fitnes_list.min(), fitnes_list.mean(), datetime.now().strftime(\"%d/%m/%y %H:%M\"))\n",
    "    fitnes_list = get_all_fitnes(mutated_pop,cities_dict)\n",
    "    \n",
    "    #Saving the best solution\n",
    "    if fitnes_list.min() < best_solution[1]:\n",
    "        best_solution[0] = i\n",
    "        best_solution[1] = fitnes_list.min()\n",
    "        best_solution[2] = np.array(mutated_pop)[fitnes_list.min() == fitnes_list]\n",
    "    \n",
    "    progenitor_list = progenitor_selection(population_set,fitnes_list)\n",
    "    new_population_set = mate_population(progenitor_list)\n",
    "    \n",
    "    mutated_pop = mutate_population(new_population_set)"
   ]
  },
  {
   "cell_type": "code",
   "execution_count": 11,
   "metadata": {},
   "outputs": [
    {
     "data": {
      "text/plain": [
       "[8714,\n",
       " 487.5265019321421,\n",
       " array([['Birmingham', 'Rome', 'Berlin', 'Amsterdam', 'Brussels', 'Minsk',\n",
       "         'Barcelona', 'London', 'Sofia', 'Budapest', 'Moscow', 'Paris',\n",
       "         'Milan', 'Warsaw', 'Kyiv', 'Bucharest', 'Istanbul', 'Vienna',\n",
       "         'Prague', 'Munich']], dtype='<U10')]"
      ]
     },
     "execution_count": 11,
     "metadata": {},
     "output_type": "execute_result"
    }
   ],
   "source": [
    "best_solution"
   ]
  }
 ],
 "metadata": {
  "kernelspec": {
   "display_name": "Python 3",
   "language": "python",
   "name": "python3"
  },
  "language_info": {
   "codemirror_mode": {
    "name": "ipython",
    "version": 3
   },
   "file_extension": ".py",
   "mimetype": "text/x-python",
   "name": "python",
   "nbconvert_exporter": "python",
   "pygments_lexer": "ipython3",
   "version": "3.8.5"
  }
 },
 "nbformat": 4,
 "nbformat_minor": 4
}
